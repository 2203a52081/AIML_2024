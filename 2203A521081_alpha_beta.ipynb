{
  "nbformat": 4,
  "nbformat_minor": 0,
  "metadata": {
    "colab": {
      "provenance": []
    },
    "kernelspec": {
      "name": "python3",
      "display_name": "Python 3"
    },
    "language_info": {
      "name": "python"
    }
  },
  "cells": [
    {
      "cell_type": "code",
      "execution_count": 1,
      "metadata": {
        "id": "2oSWdNKRdbSi"
      },
      "outputs": [],
      "source": [
        "def alphabeta(node, depth, alpha, beta, maximizingPlayer):\n",
        "    # Terminal node: get value from user\n",
        "    if depth == 0 or is_terminal(node):\n",
        "        return get_terminal_value_from_user(node)\n",
        "\n",
        "    if maximizingPlayer:\n",
        "        value = -float('inf')\n",
        "        for child in node.children:\n",
        "            value = max(value, alphabeta(child, depth - 1, alpha, beta, False))\n",
        "            alpha = max(alpha, value)\n",
        "            if beta <= alpha:\n",
        "                break  # Prune\n",
        "        return value\n",
        "\n",
        "    else:  # Minimizing player\n",
        "        value = float('inf')\n",
        "        for child in node.children:\n",
        "            value = min(value, alphabeta(child, depth - 1, alpha, beta, True))\n",
        "            beta = min(beta, value)\n",
        "            if beta <= alpha:\n",
        "                break  # Prune\n",
        "        return value\n",
        "\n",
        "\n",
        "\n"
      ]
    },
    {
      "cell_type": "code",
      "source": [
        "def get_terminal_value_from_user(node):\n",
        "    value = int(input(\"Enter terminal value for node: \"))\n",
        "    return value"
      ],
      "metadata": {
        "id": "Uz8WOANQeEKX"
      },
      "execution_count": 2,
      "outputs": []
    },
    {
      "cell_type": "code",
      "source": [],
      "metadata": {
        "id": "F78-rHU8eWFZ"
      },
      "execution_count": null,
      "outputs": []
    }
  ]
}