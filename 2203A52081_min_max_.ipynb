{
  "nbformat": 4,
  "nbformat_minor": 0,
  "metadata": {
    "colab": {
      "provenance": []
    },
    "kernelspec": {
      "name": "python3",
      "display_name": "Python 3"
    },
    "language_info": {
      "name": "python"
    }
  },
  "cells": [
    {
      "cell_type": "code",
      "execution_count": null,
      "metadata": {
        "colab": {
          "base_uri": "https://localhost:8080/"
        },
        "id": "asYz3v6fXk7I",
        "outputId": "f13e5e4e-909e-4f57-9870-919e9efa5493"
      },
      "outputs": [
        {
          "name": "stdout",
          "output_type": "stream",
          "text": [
            "Enter the terminal value : 2 3 4 5 6\n",
            "Invalid input. Please enter a valid number.\n",
            "Enter the terminal value : 2\n"
          ]
        }
      ],
      "source": [
        "import math\n",
        "\n",
        "def minimax_search(game, state):\n",
        "    player = state.to_move\n",
        "    return max_value(game, state, player)\n",
        "\n",
        "def max_value(game, state, player, infinity):\n",
        "    if game.is_terminal(state):\n",
        "        return game.utility(state, player), None\n",
        "    v, move = -infinity, None\n",
        "    for a in game.actions(state):\n",
        "        v2, _ = min_value(game, game.result(state, a), player, infinity)\n",
        "        if v2 > v:\n",
        "            v, move = v2, a\n",
        "    return v, move\n",
        "\n",
        "def min_value(game, state, player, infinity):\n",
        "    if game.is_terminal(state):\n",
        "        return game.utility(state, player), None\n",
        "    v, move = infinity, None\n",
        "    for a in game.actions(state):\n",
        "        v2, _ = max_value(game, game.result(state, a), player, infinity)\n",
        "        if v2 < v:\n",
        "            v, move = v2, a\n",
        "    return v, move\n",
        "\n",
        "def get_terminal_values():\n",
        "    infinity = float('inf')\n",
        "    while True:\n",
        "        try:\n",
        "            terminal_value = float(input(\"Enter the terminal value : \"))\n",
        "            break\n",
        "        except ValueError:\n",
        "            print(\"Invalid input. Please enter a valid number.\")\n",
        "    return terminal_value\n",
        "\n",
        "positive_infinity = get_terminal_values()\n",
        "negative_infinity = get_terminal_values()\n",
        "\n",
        "class Game:\n",
        "    def is_terminal(self, state):\n",
        "        pass\n",
        "\n",
        "    def utility(self, state, player):\n",
        "        pass\n",
        "\n",
        "    def actions(self, state):\n",
        "        pass\n",
        "\n",
        "    def result(self, state, action):\n",
        "        pass\n",
        "\n",
        "game = Game()\n",
        "state = None\n",
        "player = None\n",
        "print(minimax_search(game, state))\n"
      ]
    },
    {
      "cell_type": "code",
      "source": [
        "\n",
        "\n",
        "\n"
      ],
      "metadata": {
        "id": "0kGagWy3YD4l",
        "colab": {
          "base_uri": "https://localhost:8080/",
          "height": 106
        },
        "outputId": "5227da66-3c64-41ab-b3a0-42fb8b8a2695"
      },
      "execution_count": 3,
      "outputs": [
        {
          "output_type": "error",
          "ename": "SyntaxError",
          "evalue": "invalid character '”' (U+201D) (<ipython-input-3-0c9ed4728a6f>, line 2)",
          "traceback": [
            "\u001b[0;36m  File \u001b[0;32m\"<ipython-input-3-0c9ed4728a6f>\"\u001b[0;36m, line \u001b[0;32m2\u001b[0m\n\u001b[0;31m    ”””Search game tree to determine best move; return (value , move) pair .”””\u001b[0m\n\u001b[0m    ^\u001b[0m\n\u001b[0;31mSyntaxError\u001b[0m\u001b[0;31m:\u001b[0m invalid character '”' (U+201D)\n"
          ]
        }
      ]
    }
  ]
}