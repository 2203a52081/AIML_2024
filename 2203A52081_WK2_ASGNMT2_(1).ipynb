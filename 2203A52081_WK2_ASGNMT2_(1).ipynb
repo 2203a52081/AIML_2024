{
  "nbformat": 4,
  "nbformat_minor": 0,
  "metadata": {
    "colab": {
      "provenance": []
    },
    "kernelspec": {
      "name": "python3",
      "display_name": "Python 3"
    },
    "language_info": {
      "name": "python"
    }
  },
  "cells": [
    {
      "cell_type": "code",
      "source": [
        "from collections import deque\n",
        "\n",
        "graph = {\n",
        "    0:[1,3],\n",
        " 1: [0,2, 3],\n",
        " 2: [1,5,5],\n",
        " 3: [0,1,4],\n",
        " 4:[2,3,5],\n",
        " 5:[2,4]\n",
        "}\n",
        "\n",
        "def bfs(graph, start):\n",
        "    visited = set()\n",
        "    queue = deque()\n",
        "\n",
        "    queue.append(start)\n",
        "    visited.add(start)\n",
        "\n",
        "    while queue:\n",
        "        node = queue.popleft()\n",
        "        print(node, end=\" \")\n",
        "\n",
        "        for neighbor in graph[node]:\n",
        "            if neighbor not in visited:\n",
        "                queue.append(neighbor)\n",
        "                visited.add(neighbor)\n",
        "\n",
        "bfs(graph, 0)\n"
      ],
      "metadata": {
        "colab": {
          "base_uri": "https://localhost:8080/"
        },
        "id": "C2JTkXkPPkiM",
        "outputId": "53cdbdb6-76ff-462b-8168-7684651724bd"
      },
      "execution_count": null,
      "outputs": [
        {
          "output_type": "stream",
          "name": "stdout",
          "text": [
            "0 1 3 2 4 5 "
          ]
        }
      ]
    },
    {
      "cell_type": "code",
      "source": [
        "def dfs(graph, start, visited=None):\n",
        "    if visited is None:\n",
        "        visited = set()\n",
        "\n",
        "    visited.add(start)\n",
        "    print(start)\n",
        "\n",
        "    for neighbor in graph[start]:\n",
        "        if neighbor not in visited:\n",
        "            dfs(graph, neighbor, visited)\n",
        "\n",
        "graph = {\n",
        "  'A':['B','S'],\n",
        "  'B':['A'],\n",
        "  'S':['A','C','G'],\n",
        "  'C':['D','E','F','S'],\n",
        "  'D':['C'],\n",
        "  'E':['C','H'],\n",
        "  'F':['C','G'],\n",
        "  'G':['S','F','H'],\n",
        "  'H':['E','G']\n",
        "\n",
        "\n",
        "}\n",
        "\n",
        "starting_vertex = 'A'\n",
        "\n",
        "dfs(graph, starting_vertex)\n"
      ],
      "metadata": {
        "colab": {
          "base_uri": "https://localhost:8080/"
        },
        "id": "kA9mrhDmU_1v",
        "outputId": "b5270234-40ea-4997-93a4-1d90a4516353"
      },
      "execution_count": null,
      "outputs": [
        {
          "output_type": "stream",
          "name": "stdout",
          "text": [
            "A\n",
            "B\n",
            "S\n",
            "C\n",
            "D\n",
            "E\n",
            "H\n",
            "G\n",
            "F\n"
          ]
        }
      ]
    },
    {
      "cell_type": "code",
      "source": [
        "#Part 3 – Implement A* Algorithm using Numpy\n",
        "\n",
        "\n",
        "from heapq import heappush, heappop\n",
        "initial_state = ((2, 8, 3), (1, 6, 4), (7, 0, 5))\n",
        "final_state = ((1, 2, 3), (8, 0, 4), (7, 6, 5))\n",
        "def heuristic(state):\n",
        "    distance = 0\n",
        "    for i in range(3):\n",
        "        for j in range(3):\n",
        "            value = state[i][j]\n",
        "            if value != 0:\n",
        "                goal_row, goal_col = (value - 1) // 3, (value - 1) % 3\n",
        "                distance += abs(i - goal_row) + abs(j - goal_col)\n",
        "    return distance\n",
        "def astar(initial_state, final_state):\n",
        "    open_list = []\n",
        "    closed_set = set()\n",
        "    heappush(open_list, (0 + heuristic(initial_state), 0, initial_state))\n",
        "    while open_list:\n",
        "        _, g_score, current_state = heappop(open_list)\n",
        "        if current_state == final_state:\n",
        "            return current_state\n",
        "        closed_set.add(current_state)\n",
        "        zero_row, zero_col = -1, -1\n",
        "        for i in range(3):\n",
        "            for j in range(3):\n",
        "                if current_state[i][j] == 0:\n",
        "                    zero_row, zero_col = i, j\n",
        "                    break\n",
        "            if zero_row != -1:\n",
        "                break\n",
        "        for dr, dc in [(0, 1), (1, 0), (0, -1), (-1, 0)]:\n",
        "            new_row, new_col = zero_row + dr, zero_col + dc\n",
        "            if 0 <= new_row < 3 and 0 <= new_col < 3:\n",
        "                new_state = list(map(list, current_state))\n",
        "                new_state[zero_row][zero_col], new_state[new_row][new_col] = new_state[new_row][new_col], new_state[zero_row][zero_col]\n",
        "                new_state = tuple(map(tuple, new_state))\n",
        "                if new_state not in closed_set:\n",
        "                    heappush(open_list, (g_score + 1 + heuristic(new_state), g_score + 1, new_state))\n",
        "    return None\n",
        "result = astar(initial_state, final_state)\n",
        "if result is not None:\n",
        "    print(\"Solution Found:\")\n",
        "    for row in result:\n",
        "        print(row)\n",
        "else:\n",
        "    print(\"No Solution Found.\")\n",
        "\n"
      ],
      "metadata": {
        "id": "qNLHxZ9JebjO",
        "outputId": "46a11153-baec-4c5f-869e-039aed8e7f3c",
        "colab": {
          "base_uri": "https://localhost:8080/"
        }
      },
      "execution_count": 1,
      "outputs": [
        {
          "output_type": "stream",
          "name": "stdout",
          "text": [
            "Solution Found:\n",
            "(1, 2, 3)\n",
            "(8, 0, 4)\n",
            "(7, 6, 5)\n"
          ]
        }
      ]
    }
  ]
}